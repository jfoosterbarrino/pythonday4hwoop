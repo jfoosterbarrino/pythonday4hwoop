{
 "cells": [
  {
   "cell_type": "markdown",
   "metadata": {},
   "source": [
    "# Object-Oriented-Programming (OOP)"
   ]
  },
  {
   "cell_type": "markdown",
   "metadata": {},
   "source": [
    "## Tasks Today:\n",
    "\n",
    "   \n",
    "\n",
    "1) <b>Creating a Class (Initializing/Declaring)</b> <br>\n",
    "2) <b>Using a Class (Instantiating)</b> <br>\n",
    " &nbsp;&nbsp;&nbsp;&nbsp; a) Creating One Instance <br>\n",
    " &nbsp;&nbsp;&nbsp;&nbsp; b) Creating Multiple Instances <br>\n",
    " &nbsp;&nbsp;&nbsp;&nbsp; c) In-Class Exercise #1 - Create a Class 'Car' and instantiate three different makes of cars <br>\n",
    "3) <b>The \\__init\\__() Method</b> <br>\n",
    " &nbsp;&nbsp;&nbsp;&nbsp; a) The 'self' Attribute <br>\n",
    "4) <b>Class Attributes</b> <br>\n",
    " &nbsp;&nbsp;&nbsp;&nbsp; a) Initializing Attributes <br>\n",
    " &nbsp;&nbsp;&nbsp;&nbsp; b) Setting an Attribute Outside of the \\__init\\__() Method <br>\n",
    " &nbsp;&nbsp;&nbsp;&nbsp; c) Setting Defaults for Attributes <br>\n",
    " &nbsp;&nbsp;&nbsp;&nbsp; d) Accessing Class Attributes <br>\n",
    " &nbsp;&nbsp;&nbsp;&nbsp; e) Changing Class Attributes <br>\n",
    " &nbsp;&nbsp;&nbsp;&nbsp; f) In-Class Exercise #2 - Add a color and wheels attribute to your 'Car' class <br>\n",
    "5) <b>Class Methods</b> <br>\n",
    " &nbsp;&nbsp;&nbsp;&nbsp; a) Creating <br>\n",
    " &nbsp;&nbsp;&nbsp;&nbsp; b) Calling <br>\n",
    " &nbsp;&nbsp;&nbsp;&nbsp; c) Modifying an Attribute's Value Through a Method <br>\n",
    " &nbsp;&nbsp;&nbsp;&nbsp; d) Incrementing an Attribute's Value Through a Method <br>\n",
    " &nbsp;&nbsp;&nbsp;&nbsp; e) In-Class Exercise #3 - Add a method that prints the cars color and wheel number, then call them <br>\n",
    "6) <b>Inheritance</b> <br>\n",
    " &nbsp;&nbsp;&nbsp;&nbsp; a) Syntax for Inheriting from a Parent Class <br>\n",
    " &nbsp;&nbsp;&nbsp;&nbsp; b) The \\__init\\__() Method for a Child Class (super()) <br>\n",
    " &nbsp;&nbsp;&nbsp;&nbsp; c) Defining Attributes and Methods for the Child Class <br>\n",
    " &nbsp;&nbsp;&nbsp;&nbsp; d) Method Overriding <br>\n",
    " &nbsp;&nbsp;&nbsp;&nbsp; e) In-Class Exercise #4 - Create a class 'Ford' that inherits from 'Car' class and initialize it as a Blue Ford Explorer with 4 wheels using the super() method <br>\n",
    "7) <b>Classes as Attributes</b> <br>\n",
    "8) <b>Exercises</b> <br>\n",
    " &nbsp;&nbsp;&nbsp;&nbsp; a) Exercise #1 - Turn the shopping cart program from yesterday into an object-oriented program <br>"
   ]
  },
  {
   "cell_type": "code",
   "execution_count": 1,
   "metadata": {},
   "outputs": [
    {
     "name": "stdout",
     "output_type": "stream",
     "text": [
      "['Hey', 'Yall', 'The', 'class', 'is', 'long', 'and', 'kind', 'of', 'dull']\n"
     ]
    }
   ],
   "source": [
    "my_string = \"Hey Guys The class is long and kind of dull\"\n",
    "my_string = my_string.split()\n",
    "my_string[1] = \"Yall\"\n",
    "print(my_string)"
   ]
  },
  {
   "cell_type": "code",
   "execution_count": 2,
   "metadata": {},
   "outputs": [
    {
     "data": {
      "text/plain": [
       "'Hey * Yall * The * class * is * long * and * kind * of * dull'"
      ]
     },
     "execution_count": 2,
     "metadata": {},
     "output_type": "execute_result"
    }
   ],
   "source": [
    "\" * \".join(my_string)"
   ]
  },
  {
   "cell_type": "code",
   "execution_count": 3,
   "metadata": {},
   "outputs": [
    {
     "data": {
      "text/plain": [
       "['Hey', 'Guys', 'The', 'class', 'is', 'long', 'and', 'kind', 'of', 'dull']"
      ]
     },
     "execution_count": 3,
     "metadata": {},
     "output_type": "execute_result"
    }
   ],
   "source": [
    "my_string = \"Hey-Guys-The-class-is-long-and-kind-of-dull\"\n",
    "my_string.split('-')"
   ]
  },
  {
   "cell_type": "code",
   "execution_count": 4,
   "metadata": {},
   "outputs": [
    {
     "ename": "KeyboardInterrupt",
     "evalue": "Interrupted by user",
     "output_type": "error",
     "traceback": [
      "\u001b[1;31m---------------------------------------------------------------------------\u001b[0m",
      "\u001b[1;31mKeyboardInterrupt\u001b[0m                         Traceback (most recent call last)",
      "\u001b[1;32m~\\AppData\\Local\\Temp/ipykernel_3592/1811069307.py\u001b[0m in \u001b[0;36m<module>\u001b[1;34m\u001b[0m\n\u001b[0;32m     53\u001b[0m \u001b[1;33m\u001b[0m\u001b[0m\n\u001b[0;32m     54\u001b[0m \u001b[1;31m# Driver Code\u001b[0m\u001b[1;33m\u001b[0m\u001b[1;33m\u001b[0m\u001b[0m\n\u001b[1;32m---> 55\u001b[1;33m \u001b[0mshopping_cart\u001b[0m\u001b[1;33m(\u001b[0m\u001b[1;33m)\u001b[0m\u001b[1;33m\u001b[0m\u001b[1;33m\u001b[0m\u001b[0m\n\u001b[0m",
      "\u001b[1;32m~\\AppData\\Local\\Temp/ipykernel_3592/1811069307.py\u001b[0m in \u001b[0;36mshopping_cart\u001b[1;34m()\u001b[0m\n\u001b[0;32m     34\u001b[0m \u001b[1;32mdef\u001b[0m \u001b[0mshopping_cart\u001b[0m\u001b[1;33m(\u001b[0m\u001b[1;33m)\u001b[0m\u001b[1;33m:\u001b[0m\u001b[1;33m\u001b[0m\u001b[1;33m\u001b[0m\u001b[0m\n\u001b[0;32m     35\u001b[0m     \u001b[1;32mwhile\u001b[0m \u001b[1;32mTrue\u001b[0m\u001b[1;33m:\u001b[0m\u001b[1;33m\u001b[0m\u001b[1;33m\u001b[0m\u001b[0m\n\u001b[1;32m---> 36\u001b[1;33m         \u001b[0mresponse\u001b[0m \u001b[1;33m=\u001b[0m \u001b[0minput\u001b[0m\u001b[1;33m(\u001b[0m\u001b[1;34m\"What would you like to do?  You can: quit/ add/ remove/ show/ or clear/ \\n Choose only one \\n\"\u001b[0m\u001b[1;33m)\u001b[0m\u001b[1;33m\u001b[0m\u001b[1;33m\u001b[0m\u001b[0m\n\u001b[0m\u001b[0;32m     37\u001b[0m         \u001b[1;32mif\u001b[0m \u001b[0mresponse\u001b[0m\u001b[1;33m.\u001b[0m\u001b[0mlower\u001b[0m\u001b[1;33m(\u001b[0m\u001b[1;33m)\u001b[0m\u001b[1;33m.\u001b[0m\u001b[0mstrip\u001b[0m\u001b[1;33m(\u001b[0m\u001b[1;33m)\u001b[0m \u001b[1;33m==\u001b[0m \u001b[1;34m'quit'\u001b[0m\u001b[1;33m:\u001b[0m\u001b[1;33m\u001b[0m\u001b[1;33m\u001b[0m\u001b[0m\n\u001b[0;32m     38\u001b[0m             \u001b[0mshow_cart\u001b[0m\u001b[1;33m(\u001b[0m\u001b[1;33m)\u001b[0m\u001b[1;33m\u001b[0m\u001b[1;33m\u001b[0m\u001b[0m\n",
      "\u001b[1;32m~\\anaconda3\\lib\\site-packages\\ipykernel\\kernelbase.py\u001b[0m in \u001b[0;36mraw_input\u001b[1;34m(self, prompt)\u001b[0m\n\u001b[0;32m   1004\u001b[0m                 \u001b[1;34m\"raw_input was called, but this frontend does not support input requests.\"\u001b[0m\u001b[1;33m\u001b[0m\u001b[1;33m\u001b[0m\u001b[0m\n\u001b[0;32m   1005\u001b[0m             )\n\u001b[1;32m-> 1006\u001b[1;33m         return self._input_request(\n\u001b[0m\u001b[0;32m   1007\u001b[0m             \u001b[0mstr\u001b[0m\u001b[1;33m(\u001b[0m\u001b[0mprompt\u001b[0m\u001b[1;33m)\u001b[0m\u001b[1;33m,\u001b[0m\u001b[1;33m\u001b[0m\u001b[1;33m\u001b[0m\u001b[0m\n\u001b[0;32m   1008\u001b[0m             \u001b[0mself\u001b[0m\u001b[1;33m.\u001b[0m\u001b[0m_parent_ident\u001b[0m\u001b[1;33m[\u001b[0m\u001b[1;34m\"shell\"\u001b[0m\u001b[1;33m]\u001b[0m\u001b[1;33m,\u001b[0m\u001b[1;33m\u001b[0m\u001b[1;33m\u001b[0m\u001b[0m\n",
      "\u001b[1;32m~\\anaconda3\\lib\\site-packages\\ipykernel\\kernelbase.py\u001b[0m in \u001b[0;36m_input_request\u001b[1;34m(self, prompt, ident, parent, password)\u001b[0m\n\u001b[0;32m   1049\u001b[0m             \u001b[1;32mexcept\u001b[0m \u001b[0mKeyboardInterrupt\u001b[0m\u001b[1;33m:\u001b[0m\u001b[1;33m\u001b[0m\u001b[1;33m\u001b[0m\u001b[0m\n\u001b[0;32m   1050\u001b[0m                 \u001b[1;31m# re-raise KeyboardInterrupt, to truncate traceback\u001b[0m\u001b[1;33m\u001b[0m\u001b[1;33m\u001b[0m\u001b[0m\n\u001b[1;32m-> 1051\u001b[1;33m                 \u001b[1;32mraise\u001b[0m \u001b[0mKeyboardInterrupt\u001b[0m\u001b[1;33m(\u001b[0m\u001b[1;34m\"Interrupted by user\"\u001b[0m\u001b[1;33m)\u001b[0m \u001b[1;32mfrom\u001b[0m \u001b[1;32mNone\u001b[0m\u001b[1;33m\u001b[0m\u001b[1;33m\u001b[0m\u001b[0m\n\u001b[0m\u001b[0;32m   1052\u001b[0m             \u001b[1;32mexcept\u001b[0m \u001b[0mException\u001b[0m\u001b[1;33m:\u001b[0m\u001b[1;33m\u001b[0m\u001b[1;33m\u001b[0m\u001b[0m\n\u001b[0;32m   1053\u001b[0m                 \u001b[0mself\u001b[0m\u001b[1;33m.\u001b[0m\u001b[0mlog\u001b[0m\u001b[1;33m.\u001b[0m\u001b[0mwarning\u001b[0m\u001b[1;33m(\u001b[0m\u001b[1;34m\"Invalid Message:\"\u001b[0m\u001b[1;33m,\u001b[0m \u001b[0mexc_info\u001b[0m\u001b[1;33m=\u001b[0m\u001b[1;32mTrue\u001b[0m\u001b[1;33m)\u001b[0m\u001b[1;33m\u001b[0m\u001b[1;33m\u001b[0m\u001b[0m\n",
      "\u001b[1;31mKeyboardInterrupt\u001b[0m: Interrupted by user"
     ]
    }
   ],
   "source": [
    "from IPython.display import clear_output\n",
    "\n",
    "from IPython.display import clear_output\n",
    "\n",
    "\n",
    "cart = []\n",
    "\n",
    "# Show, add, remove, clear\n",
    "\n",
    "def show_cart():\n",
    "    clear_output()\n",
    "    print(\"Your Cart Contains:\")\n",
    "    for item in cart:\n",
    "        print(item)\n",
    "    if not cart:\n",
    "        print(\"Your Cart is empty\")\n",
    "\n",
    "def add_item(item):\n",
    "    clear_output()\n",
    "    cart.append(item)\n",
    "    print(f\"{item} was added to your cart\")\n",
    "\n",
    "def remove_item(item):\n",
    "    clear_output()\n",
    "    cart.remove(item)\n",
    "    print(f\"{item} was removed from your cart\")\n",
    "\n",
    "def clear_cart():\n",
    "    clear_output()\n",
    "    cart.clear()\n",
    "    print(\"You cart is empty\")\n",
    "\n",
    "#UI\n",
    "def shopping_cart():\n",
    "    while True:\n",
    "        response = input(\"What would you like to do?  You can: quit/ add/ remove/ show/ or clear/ \\n Choose only one \\n\")\n",
    "        if response.lower().strip() == 'quit':\n",
    "            show_cart()\n",
    "            print(\"Thanks for Shopping\")\n",
    "            break\n",
    "        elif response.lower().strip() == 'add':\n",
    "            item1 = input(\"What would you like to add? \")\n",
    "            add_item(item1)\n",
    "        elif response.lower().strip() == 'remove':\n",
    "            item2 = input(\"What would you like to remove? \")\n",
    "            remove_item(item2)\n",
    "        elif response.lower().strip() == 'show':\n",
    "            show_cart()\n",
    "        elif response.lower().strip() == 'clear':\n",
    "            clear_cart()\n",
    "        else:\n",
    "            print(\"Invalid Option You Hockey Puck!\")\n",
    "            \n",
    "# Driver Code        \n",
    "shopping_cart()"
   ]
  },
  {
   "cell_type": "code",
   "execution_count": null,
   "metadata": {},
   "outputs": [],
   "source": [
    "alex = {\n",
    "    \"name\":\"Alex\",\n",
    "    \"weight\": 190,\n",
    "    \"age\":\"old\",\n",
    "    \"activity\":\"soccer\"\n",
    "}\n",
    "\n",
    "patrick = {\n",
    "    \"name\":\"Patrick\",\n",
    "    \"weight\": 140,\n",
    "    \"age\":65,\n",
    "    \"activity\":\"football\"\n",
    "}\n",
    "\n",
    "def do_activity(person):\n",
    "    if person[\"activity\"] == \"football\":\n",
    "        print(\"They are playing football\")\n",
    "    if person[\"activity\"] == \"soccer\":\n",
    "        print(\"They are playing soccer\")\n",
    "        \n",
    "do_activity(patrick)\n",
    "do_activity(alex)"
   ]
  },
  {
   "cell_type": "code",
   "execution_count": null,
   "metadata": {},
   "outputs": [],
   "source": [
    "my_string = 1"
   ]
  },
  {
   "cell_type": "markdown",
   "metadata": {},
   "source": [
    "## Creating a Class (Initializing/Declaring)\n",
    "<p>When creating a class, function, or even a variable you are initializing that object. Initializing and Declaring occur at the same time in Python, whereas in lower level languages you have to declare an object before initializing it. This is the first step in the process of using a class.</p>"
   ]
  },
  {
   "cell_type": "code",
   "execution_count": null,
   "metadata": {},
   "outputs": [],
   "source": [
    "class Car(): #USE PASCAL CASE: IMPORTANT!!!\n",
    "    wheels = 4\n",
    "    color = \"blue\"\n",
    "\n",
    "# class BigGiantCar <- pascal case"
   ]
  },
  {
   "cell_type": "markdown",
   "metadata": {},
   "source": [
    "## Using a Class (Instantiating)\n",
    "<p>The process of creating a class is called <i>Instantiating</i>. Each time you create a variable of that type of class, it is referred to as an <i>Instance</i> of that class. This is the second step in the process of using a class.</p>"
   ]
  },
  {
   "cell_type": "markdown",
   "metadata": {},
   "source": [
    "##### Creating One Instance"
   ]
  },
  {
   "cell_type": "code",
   "execution_count": null,
   "metadata": {},
   "outputs": [],
   "source": [
    "ford = Car()\n",
    "ford"
   ]
  },
  {
   "cell_type": "code",
   "execution_count": null,
   "metadata": {},
   "outputs": [],
   "source": [
    "ford.wheels"
   ]
  },
  {
   "cell_type": "code",
   "execution_count": null,
   "metadata": {},
   "outputs": [],
   "source": [
    "ford.color"
   ]
  },
  {
   "cell_type": "markdown",
   "metadata": {},
   "source": [
    "##### Creating Multiple Instances"
   ]
  },
  {
   "cell_type": "code",
   "execution_count": null,
   "metadata": {},
   "outputs": [],
   "source": [
    "chevy = Car()\n",
    "honda = Car()\n",
    "porsche = Car()\n",
    "\n",
    "print(chevy.wheels)\n",
    "print(honda.wheels)\n",
    "print(porsche.color)"
   ]
  },
  {
   "cell_type": "markdown",
   "metadata": {},
   "source": [
    "##### In-Class Exercise #1 - Create a Class 'Car' and Instantiate three different makes of cars"
   ]
  },
  {
   "cell_type": "code",
   "execution_count": null,
   "metadata": {},
   "outputs": [],
   "source": [
    "class NewCar():\n",
    "    year = 1992\n",
    "    color = \"Salmon\"\n",
    "    make = \"Toyota\"\n",
    "    radio = \"Loud!!!\""
   ]
  },
  {
   "cell_type": "code",
   "execution_count": null,
   "metadata": {},
   "outputs": [],
   "source": [
    "camry = NewCar()\n",
    "tundra = NewCar()\n",
    "clowncar = NewCar()\n",
    "train = NewCar()"
   ]
  },
  {
   "cell_type": "code",
   "execution_count": null,
   "metadata": {},
   "outputs": [],
   "source": [
    "print(clowncar.radio)"
   ]
  },
  {
   "cell_type": "markdown",
   "metadata": {},
   "source": [
    "## The \\__init\\__() Method <br>\n",
    "<p>This method is used in almost every created class, and called only once upon the creation of the class instance. This method will initialize all variables needed for the object.</p>"
   ]
  },
  {
   "cell_type": "code",
   "execution_count": null,
   "metadata": {},
   "outputs": [],
   "source": [
    "class Car():\n",
    "    engine = \"4.7L\" # Class Attribute\n",
    "    \n",
    "    #Constructor\n",
    "    def __init__(self,color, num_of_wheels=4):\n",
    "        self.wheels = num_of_wheels #Instance Attributes\n",
    "        self.color = color #Instance Attributes\n",
    "        \n",
    "ford = Car(\"red\")\n",
    "trike = Car(\"green\",3)\n",
    "\n",
    "print(ford.wheels)\n",
    "print(trike.wheels)\n",
    "print(ford.engine)\n",
    "print(trike.engine)\n",
    "print(trike.color)"
   ]
  },
  {
   "cell_type": "code",
   "execution_count": null,
   "metadata": {},
   "outputs": [],
   "source": [
    "my_cars = [ford,trike]\n",
    "for car in my_cars:\n",
    "    print(car.wheels)\n",
    "    print(car.color)\n",
    "    print(car.engine)"
   ]
  },
  {
   "cell_type": "markdown",
   "metadata": {},
   "source": [
    "##### The 'self' Attribute <br>\n",
    "<p>This attribute is required to keep track of specific instance's attributes. Without the self attribute, the program would not know how to reference or keep track of an instance's attributes.</p>"
   ]
  },
  {
   "cell_type": "code",
   "execution_count": null,
   "metadata": {},
   "outputs": [],
   "source": [
    "# see above"
   ]
  },
  {
   "cell_type": "markdown",
   "metadata": {},
   "source": [
    "## Class Attributes <br>\n",
    "<p>While variables are inside of a class, they are referred to as attributes and not variables. When someone says 'attribute' you know they're speaking about a class. Attributes can be initialized through the init method, or outside of it.</p>"
   ]
  },
  {
   "cell_type": "markdown",
   "metadata": {},
   "source": [
    "##### Initializing Attributes"
   ]
  },
  {
   "cell_type": "code",
   "execution_count": null,
   "metadata": {},
   "outputs": [],
   "source": [
    "# see above"
   ]
  },
  {
   "cell_type": "markdown",
   "metadata": {},
   "source": [
    "##### Accessing Class Attributes"
   ]
  },
  {
   "cell_type": "code",
   "execution_count": null,
   "metadata": {
    "scrolled": true
   },
   "outputs": [],
   "source": [
    "# See Above"
   ]
  },
  {
   "cell_type": "markdown",
   "metadata": {},
   "source": [
    "##### Setting Defaults for Attributes"
   ]
  },
  {
   "cell_type": "code",
   "execution_count": null,
   "metadata": {},
   "outputs": [],
   "source": []
  },
  {
   "cell_type": "markdown",
   "metadata": {},
   "source": [
    "##### Changing Class Attributes <br>\n",
    "<p>Keep in mind there are global class attributes and then there are attributes only available to each class instance which won't effect other classes.</p>"
   ]
  },
  {
   "cell_type": "code",
   "execution_count": null,
   "metadata": {},
   "outputs": [],
   "source": [
    "# Changing class attribute in an instance\n",
    "trike.engine = \"2.0L\"\n",
    "print(trike.engine)\n",
    "print(ford.engine)"
   ]
  },
  {
   "cell_type": "code",
   "execution_count": null,
   "metadata": {},
   "outputs": [],
   "source": [
    "# Changing class attribute across everything\n",
    "\n",
    "Car.engine= \"1.5L\"\n",
    "print(trike.engine)\n",
    "print(ford.engine)\n",
    "new_car = Car(\"yellow\")\n",
    "new_car.engine"
   ]
  },
  {
   "cell_type": "code",
   "execution_count": null,
   "metadata": {},
   "outputs": [],
   "source": [
    "# Change instance attribute\n",
    "print(ford.color)\n",
    "ford.color = \"purple\"\n",
    "print(ford.color)"
   ]
  },
  {
   "cell_type": "code",
   "execution_count": null,
   "metadata": {},
   "outputs": [],
   "source": [
    "# Add instance\n",
    "\n",
    "ford.is_truck = True\n",
    "print(ford.is_truck)\n"
   ]
  },
  {
   "cell_type": "code",
   "execution_count": null,
   "metadata": {},
   "outputs": [],
   "source": [
    "Car.has_sun_roof = False\n",
    "new_car1 = Car(\"cyan\")\n",
    "print(new_car1.has_sun_roof)"
   ]
  },
  {
   "cell_type": "markdown",
   "metadata": {},
   "source": [
    "##### In-Class Exercise #2 - Add a doors and seats attribute to your 'Car' class then print out two different instances with different doors and seats"
   ]
  },
  {
   "cell_type": "code",
   "execution_count": null,
   "metadata": {},
   "outputs": [],
   "source": [
    "class Car():\n",
    "    wheels = 4\n",
    "    color = \"blue\"\n",
    "    \n",
    "    def __init__(self,doors, seats):\n",
    "        self.wheels = num_of_doors \n",
    "        self.color = num_of_seats \n",
    "\n",
    "\n",
    "bus = Car(10,20)\n",
    "bike = Car(0,1)\n",
    "\n",
    "print(bike.seats)\n",
    "print(bus.doors)"
   ]
  },
  {
   "cell_type": "code",
   "execution_count": null,
   "metadata": {},
   "outputs": [],
   "source": []
  },
  {
   "cell_type": "markdown",
   "metadata": {},
   "source": [
    "## Instance Methods <br>\n",
    "<p>While inside of a class, functions are referred to as 'methods'. If you hear someone mention methods, they're speaking about classes. Methods are essentially functions, but only callable on the instances of a class.</p>"
   ]
  },
  {
   "cell_type": "markdown",
   "metadata": {},
   "source": [
    "##### Creating"
   ]
  },
  {
   "cell_type": "code",
   "execution_count": null,
   "metadata": {},
   "outputs": [],
   "source": [
    "class Car():\n",
    "    def __init__(self, wheels,color,seats):\n",
    "        self.wheels=wheels\n",
    "        self.color=color\n",
    "        self.seats=seats\n",
    "        self.has_sunroof=False\n",
    "        \n",
    "    def drive(self):\n",
    "        print(\"VRRRROOOOOM\")\n",
    "    \n",
    "    def set_color(self, new_color):\n",
    "        self.color = new_color\n",
    "        \n",
    "    def describe(self):\n",
    "        print(f\"The car is {self.color} with {self.seats} seats and {self.wheels} wheels\")\n",
    "        \n",
    "    def add_seats(self):\n",
    "        self.seats +=1"
   ]
  },
  {
   "cell_type": "code",
   "execution_count": null,
   "metadata": {},
   "outputs": [],
   "source": [
    "chevy = Car(4,\"red\",8)\n",
    "print(chevy.__dict__)"
   ]
  },
  {
   "cell_type": "code",
   "execution_count": null,
   "metadata": {},
   "outputs": [],
   "source": [
    "chevy.drive()"
   ]
  },
  {
   "cell_type": "code",
   "execution_count": null,
   "metadata": {},
   "outputs": [],
   "source": [
    "chevy.describe()"
   ]
  },
  {
   "cell_type": "code",
   "execution_count": null,
   "metadata": {},
   "outputs": [],
   "source": [
    "chevy.set_color(\"green\")\n",
    "chevy.describe()"
   ]
  },
  {
   "cell_type": "code",
   "execution_count": null,
   "metadata": {},
   "outputs": [],
   "source": [
    "chevy.add_seats()\n",
    "chevy.describe()"
   ]
  },
  {
   "cell_type": "markdown",
   "metadata": {},
   "source": [
    "##### Calling"
   ]
  },
  {
   "cell_type": "code",
   "execution_count": null,
   "metadata": {},
   "outputs": [],
   "source": [
    "# See Abov"
   ]
  },
  {
   "cell_type": "markdown",
   "metadata": {},
   "source": [
    "##### Modifying an Attribute's Value Through a Method"
   ]
  },
  {
   "cell_type": "code",
   "execution_count": null,
   "metadata": {},
   "outputs": [],
   "source": []
  },
  {
   "cell_type": "markdown",
   "metadata": {},
   "source": [
    "##### Incrementing an Attribute's Value Through a Method"
   ]
  },
  {
   "cell_type": "code",
   "execution_count": null,
   "metadata": {},
   "outputs": [],
   "source": []
  },
  {
   "cell_type": "markdown",
   "metadata": {},
   "source": [
    "##### In-Class Exercise #3 - Add a method that takes in three parameters of year, doors and seats and prints out a formatted print statement with make, model, year, seats, and doors"
   ]
  },
  {
   "cell_type": "code",
   "execution_count": null,
   "metadata": {},
   "outputs": [],
   "source": [
    "# Create class with 2 paramters inside of the __init__ which are make and model\n",
    "\n",
    "# Inside of the Car class create a method that has 4 parameter in total (self,year,door,seats)\n",
    "\n",
    "# Output: This car is from 2019 and is a Ford Expolorer and has 4 doors and 5 seats\n",
    "class FordCar():\n",
    "    def __init__(self,make,model):\n",
    "        self.make = make\n",
    "        self.model = model\n",
    "    \n",
    "    def add_info(self,year,door,seats):\n",
    "        self.year=year\n",
    "        self.door=door\n",
    "        self.seats=seats\n",
    "        \n",
    "    def description(self):\n",
    "        print(f\"This car is from {self.year} and is a {self.make} {self.model} and has {self.door} doors and {self.seats} seats!\")\n",
    "        \n",
    "    @classmethod\n",
    "    def which_is_better(cls, car1, car2):\n",
    "        if car1.year>car2.year:\n",
    "            print(f\"{car1.make} {car1.model} is better than {car2.make} {car2.model}!\")\n",
    "        else:\n",
    "            print(f\"{car2.make} {car2.model} is better than {car1.make} {car1.model}!\")\n",
    "        \n",
    "firstcar = FordCar(\"Honda\", \"Passport\")\n",
    "secondcar = FordCar(\"Chevy\",\"Trailblazer\")\n",
    "thirdcar = FordCar(\"Infiniti\",\"I30\")\n",
    "\n",
    "firstcar.add_info(1993,4,2)\n",
    "secondcar.add_info(2022,2,4)\n",
    "thirdcar.add_info(2003,3,3)\n",
    "\n",
    "firstcar.description()\n",
    "secondcar.description()\n",
    "thirdcar.description()\n",
    "\n",
    "FordCar.which_is_better(thirdcar,secondcar)"
   ]
  },
  {
   "cell_type": "markdown",
   "metadata": {},
   "source": [
    "## Inheritance <br>\n",
    "<p>You can create a child-parent relationship between two classes by using inheritance. What this allows you to do is have overriding methods, but also inherit traits from the parent class. Think of it as an actual parent and child, the child will inherit the parent's genes, as will the classes in OOP</p>"
   ]
  },
  {
   "cell_type": "markdown",
   "metadata": {},
   "source": [
    "##### Syntax for Inheriting from a Parent Class"
   ]
  },
  {
   "cell_type": "code",
   "execution_count": null,
   "metadata": {
    "scrolled": true
   },
   "outputs": [],
   "source": [
    "class Animal():\n",
    "    acc = 9.8\n",
    "    def __init__(self, name, species, legs=4):\n",
    "        self.name=name\n",
    "        self.species=species\n",
    "        self.legs=legs\n",
    "        self.random = 55\n",
    "    def speak(self):\n",
    "        print(\"Some generic animal noise\")\n",
    "        \n",
    "    def run(self):\n",
    "        print(\"Gallopping\")\n",
    "        \n",
    "zebra = Animal('Zee',\"Zebra\")\n",
    "zebra.speak()\n",
    "zebra.run()\n",
    "\n",
    "class Dog(Animal):\n",
    "    speed = 15\n",
    "    def __init__(self, is_housetrained, name, species, legs=4):\n",
    "        super().__init__(name, species, legs)\n",
    "        self.is_housetrained = is_housetrained\n",
    "        \n",
    "    def describe(self):\n",
    "        print(f\"The dog has {self.speed} m/s and {self.acc} m/s**2 acceleration and is a {self.species}is housetrained : {self.is_housetrained}.\")\n",
    "        \n",
    "    def speak(self):\n",
    "        print(\"BAAARRRKK\")\n",
    "              \n",
    "nala = Dog(True, \"Nala\", \"Black Lab\")\n",
    "nala.describe()\n",
    "nala.speak()\n",
    "nala.run()\n",
    "              \n",
    "        "
   ]
  },
  {
   "cell_type": "code",
   "execution_count": null,
   "metadata": {},
   "outputs": [],
   "source": [
    "isinstance(\"hey\",int)"
   ]
  },
  {
   "cell_type": "code",
   "execution_count": null,
   "metadata": {
    "scrolled": true
   },
   "outputs": [],
   "source": [
    "isinstance(nala, Dog)"
   ]
  },
  {
   "cell_type": "code",
   "execution_count": null,
   "metadata": {},
   "outputs": [],
   "source": [
    "isinstance(nala, Animal)"
   ]
  },
  {
   "cell_type": "markdown",
   "metadata": {},
   "source": [
    "##### The \\__init\\__() Method for a Child Class - super()"
   ]
  },
  {
   "cell_type": "code",
   "execution_count": null,
   "metadata": {
    "scrolled": true
   },
   "outputs": [],
   "source": []
  },
  {
   "cell_type": "markdown",
   "metadata": {},
   "source": [
    "##### Defining Attributes and Methods for the Child Class"
   ]
  },
  {
   "cell_type": "code",
   "execution_count": null,
   "metadata": {},
   "outputs": [],
   "source": [
    "# See Above"
   ]
  },
  {
   "cell_type": "markdown",
   "metadata": {},
   "source": [
    "##### Method Overriding"
   ]
  },
  {
   "cell_type": "code",
   "execution_count": null,
   "metadata": {},
   "outputs": [],
   "source": [
    "# See Above\n",
    "\n",
    "class Mutt(Dog):\n",
    "    def __init__(self, second_species, is_housetrained, name, species, legs=4):\n",
    "        super().__init__(is_housetrained, name, species, legs)\n",
    "        self.second_species = second_species\n",
    "    \n",
    "    def describe(self):\n",
    "        print(f\"The mutt is a mix of {self.species} and a {self.second_species}!\")\n",
    "        \n",
    "cass = Mutt(\"aussie\", True, \"Cass\", \"border collie\")\n",
    "cass.describe()\n",
    "    "
   ]
  },
  {
   "cell_type": "markdown",
   "metadata": {},
   "source": [
    "## Classes as Attributes <br>\n",
    "<p>Classes can also be used as attributes within another class. This is useful in situations where you need to keep variables locally stored, instead of globally stored.</p>"
   ]
  },
  {
   "cell_type": "code",
   "execution_count": null,
   "metadata": {},
   "outputs": [],
   "source": [
    "class ElectricCar ():\n",
    "    def __init__(self, year, make, a_battery):\n",
    "        self.year=year\n",
    "        self.make=make\n",
    "        self.battery=a_battery\n",
    "        \n",
    "    def describe(self):\n",
    "        print(self.year, self.make, self.battery.volts, self.battery.time, self.battery.cells)\n",
    "        \n",
    "        \n",
    "class Battery:\n",
    "    volts =7.8\n",
    "    def __init__(self, cells):\n",
    "        self.cells = cells\n",
    "        self.time = 6\n",
    "        self.var = \"My battery\"\n",
    "        \n",
    "    def recharge(self):\n",
    "        print(\"recharging...\")\n",
    "        \n",
    "        \n",
    "tesla =ElectricCar(2020, \"Tesla\", Battery(20))\n",
    "tesla.describe()\n",
    "tesla.battery.recharge()\n"
   ]
  },
  {
   "cell_type": "code",
   "execution_count": null,
   "metadata": {},
   "outputs": [],
   "source": [
    "class Person():\n",
    "    def __init__(self, name, age):\n",
    "        self.name = name\n",
    "        self.age = age\n",
    "    \n",
    "    def run(self):\n",
    "        print(f\"{self.name} says huff and puff Boy am i a fat slob\")\n",
    "        \n",
    "    def rant(self):\n",
    "        print(f\"{self.name} says Epstein didn't hell himself!!\")\n",
    "        \n",
    "class UI():\n",
    "    def __init__(self, person):\n",
    "        self.person = person\n",
    "    \n",
    "    def run_program(self):\n",
    "        while True:\n",
    "            response = input(\"What do you want to do? Run Rant or Quit? \")\n",
    "            if response.lower() == \"quit\":\n",
    "                break\n",
    "            elif response.lower() == \"run\":\n",
    "                self.person.run()\n",
    "            elif response.lower() == \"rant\":\n",
    "                self.person.rant()\n",
    "                \n",
    "patrick = Person(\"patrick\", 24)\n",
    "ui = UI(patrick)\n",
    "ui.run_program()"
   ]
  },
  {
   "cell_type": "code",
   "execution_count": null,
   "metadata": {},
   "outputs": [],
   "source": [
    "from datetime import datetime as dt, timedelta\n",
    "before = dt.now()\n"
   ]
  },
  {
   "cell_type": "code",
   "execution_count": null,
   "metadata": {
    "scrolled": true
   },
   "outputs": [],
   "source": [
    "before-dt.now()"
   ]
  },
  {
   "cell_type": "code",
   "execution_count": null,
   "metadata": {},
   "outputs": [],
   "source": [
    "class FourLegs:\n",
    "    @classmethod\n",
    "    def run(cls):\n",
    "        print(\"run on 4 legs\")\n",
    "\n",
    "class Furry:\n",
    "    @classmethod\n",
    "    def brush(cls):\n",
    "        print(\"brushing\")\n",
    "        \n",
    "    @classmethod\n",
    "    def run(cls):\n",
    "        print(\"I have no legs!!!!\")\n",
    "        \n",
    "class Dog(FourLegs, Furry): #the first class will when in cases where methods are in both classes\n",
    "    def __init__(self):\n",
    "        super().__init__()\n",
    "        \n",
    "buster = Dog()\n",
    "buster.brush()\n",
    "buster.run()"
   ]
  },
  {
   "cell_type": "markdown",
   "metadata": {},
   "source": [
    "# Exercises"
   ]
  },
  {
   "cell_type": "markdown",
   "metadata": {},
   "source": [
    "### Exercise 1 - Turn the shopping cart program from yesterday into an object-oriented program"
   ]
  },
  {
   "cell_type": "code",
   "execution_count": 1,
   "metadata": {},
   "outputs": [
    {
     "name": "stdout",
     "output_type": "stream",
     "text": [
      "Thank you for shopping, below is you final grocery list:\n",
      "\n",
      "['Pizza', 'Burgers', 'Dim Sum']\n"
     ]
    }
   ],
   "source": [
    "# Create a class called cart that retains items and has methods to add, remove, and show\n",
    "from IPython.display import clear_output\n",
    "\n",
    "class Customer():\n",
    "    def __init__(self, name, cart=[], food_item = \"\", food_rem = \"\"):\n",
    "        self.name= name\n",
    "        self.cart=cart\n",
    "        self.food_rem = food_rem\n",
    "        self.food_item = food_item\n",
    "        \n",
    "            \n",
    "    def add_item(self, food_item):\n",
    "        self.cart.append(food_item.title())\n",
    "\n",
    "    def show_list(self):\n",
    "        if not self.cart:\n",
    "            print(\"Nothing is on your list yet\")\n",
    "        else:\n",
    "            print(\"Here is your current grocery list:\\n\")\n",
    "            print(self.cart)\n",
    "\n",
    "    def rem_item(self, food_rem):\n",
    "        self.cart.remove(food_rem.title())\n",
    "\n",
    "    def quit_list(self):\n",
    "        print(\"Thank you for shopping, below is you final grocery list:\\n\")\n",
    "        print(self.cart)\n",
    "        \n",
    "\n",
    "\n",
    "class GroceryList():\n",
    "    def __init__(self, customer, cart=[], food_item = \"\", food_rem = \"\"):\n",
    "        self.customer = customer\n",
    "        self.cart = cart\n",
    "        self.food_item = food_item\n",
    "        self.food_rem = food_rem\n",
    "\n",
    "    def test_program(self, food_item = \"\", food_rem = \"\"):\n",
    "        \n",
    "        while True:    \n",
    "            action = input(f\"Hey! Would you like to Show your list [s], Add item to your list [a], Remove item from your list [r], or Quit [q] \").strip()\n",
    "            clear_output()\n",
    "            if action.lower() == \"a\":\n",
    "                food_item = input(\"What item would you like to add? \").strip()\n",
    "                self.customer.add_item(food_item)\n",
    "            elif action.lower() == \"s\":\n",
    "                self.customer.show_list()\n",
    "            elif action.lower() == \"r\":\n",
    "                food_rem = input(\"Which item would you like to remove? \").strip()\n",
    "                self.customer.rem_item(food_rem)\n",
    "            elif action.lower() == \"q\":\n",
    "                self.customer.quit_list()\n",
    "                break\n",
    "    \n",
    "    \n",
    "\n",
    "\n",
    "trey =Customer(\"Trey\")\n",
    "customer1 = GroceryList(trey)\n",
    "customer1.test_program()"
   ]
  },
  {
   "cell_type": "code",
   "execution_count": null,
   "metadata": {},
   "outputs": [],
   "source": []
  },
  {
   "cell_type": "markdown",
   "metadata": {},
   "source": [
    "### Exercise 2 - Write a Python class which has two methods get_String and print_String. get_String accept a string from the user and print_String print the string in upper case"
   ]
  },
  {
   "cell_type": "code",
   "execution_count": 2,
   "metadata": {},
   "outputs": [
    {
     "name": "stdout",
     "output_type": "stream",
     "text": [
      " Hi Jalen, here is your string:\n",
      " If this prints, then this works!\n"
     ]
    }
   ],
   "source": [
    "from IPython.display import clear_output\n",
    "\n",
    "class String():\n",
    "    def __init__(self, your_name, string=\"\"):\n",
    "        self.your_name = your_name\n",
    "        self.string = string\n",
    "        \n",
    "    def get_string(self):\n",
    "        self.string = input(\"What is your string? \")\n",
    "        \n",
    "    def print_string(self):\n",
    "        clear_output()\n",
    "        print(f\" Hi {self.your_name}, here is your string:\\n {self.string}\")\n",
    "        \n",
    "message = String(\"Jalen\")\n",
    "message.get_string()\n",
    "message.print_string()"
   ]
  }
 ],
 "metadata": {
  "kernelspec": {
   "display_name": "Python 3 (ipykernel)",
   "language": "python",
   "name": "python3"
  },
  "language_info": {
   "codemirror_mode": {
    "name": "ipython",
    "version": 3
   },
   "file_extension": ".py",
   "mimetype": "text/x-python",
   "name": "python",
   "nbconvert_exporter": "python",
   "pygments_lexer": "ipython3",
   "version": "3.9.7"
  }
 },
 "nbformat": 4,
 "nbformat_minor": 2
}
